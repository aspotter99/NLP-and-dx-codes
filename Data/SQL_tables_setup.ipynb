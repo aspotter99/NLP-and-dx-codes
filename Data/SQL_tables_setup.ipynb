{
 "cells": [
  {
   "cell_type": "markdown",
   "metadata": {},
   "source": [
    "## INSTRUCTIONS FOR DOWNLOADING DATA AND SETTING UP SQL FOR THIS PROJECT \n",
    "\n",
    "Data can be found at https://physionet.org/content/mimiciii/1.4/\n",
    "\n",
    "Researchers are required to formally request access via a process documented on the MIMIC website. \n",
    "There are two key steps that must be completed before access is granted:\n",
    "\n",
    "the researcher must complete a recognized course in protecting human research participants that includes Health Insurance Portability and Accountability Act (HIPAA) requirements.\n",
    "\n",
    "the researcher must sign a data use agreement, which outlines appropriate data usage and security standards, and forbids efforts to identify individual patients.\n",
    "\n",
    "Approval requires at least a week. Once an application has been approved the researcher will receive emails containing instructions for downloading the database from PhysioNetWorks, a restricted access component of PhysioNet."
   ]
  },
  {
   "cell_type": "markdown",
   "metadata": {},
   "source": [
    "MIMIC-III is a large, freely-available database comprising deidentified health-related data associated with over forty thousand patients who stayed in critical care units of the Beth Israel Deaconess Medical Center between 2001 and 2012. The database includes information such as demographics, vital sign measurements made at the bedside (~1 data point per hour), laboratory test results, procedures, medications, caregiver notes, imaging reports, and mortality (including post-hospital discharge).\n",
    "\n",
    "MIMIC supports a diverse range of analytic studies spanning epidemiology, clinical decision-rule improvement, and electronic tool development. It is notable for three factors: it is freely available to researchers worldwide; it encompasses a diverse and very large population of ICU patients; and it contains highly granular data, including vital signs, laboratory results, and medications.\n",
    "\n",
    "Johnson, A., Pollard, T., & Mark, R. (2016). MIMIC-III Clinical Database (version 1.4). PhysioNet. https://doi.org/10.13026/C2XW26."
   ]
  },
  {
   "cell_type": "markdown",
   "metadata": {},
   "source": [
    "Johnson, A. E. W., Pollard, T. J., Shen, L., Lehman, L. H., Feng, M., Ghassemi, M., Moody, B., Szolovits, P., Celi, L. A., & Mark, R. G. (2016). MIMIC-III, a freely accessible critical care database. Scientific Data, 3, 160035."
   ]
  },
  {
   "cell_type": "markdown",
   "metadata": {},
   "source": [
    "Goldberger, A., Amaral, L., Glass, L., Hausdorff, J., Ivanov, P. C., Mark, R., ... & Stanley, H. E. (2000). PhysioBank, PhysioToolkit, and PhysioNet: Components of a new research resource for complex physiologic signals. Circulation [Online]. 101 (23), pp. e215–e220."
   ]
  },
  {
   "cell_type": "markdown",
   "metadata": {},
   "source": [
    "Once you are granted access to the database, you can download the zip file that contains all of the tables and unzip to the data folder and run the following cells."
   ]
  },
  {
   "cell_type": "code",
   "execution_count": null,
   "metadata": {},
   "outputs": [],
   "source": [
    "impoort sqllite3 as sl\n",
    "import pandas as pd"
   ]
  },
  {
   "cell_type": "code",
   "execution_count": null,
   "metadata": {},
   "outputs": [],
   "source": [
    "#create database object\n",
    "conn = sl.connect('patient_data.db')\n",
    "c = conn.cursor()"
   ]
  },
  {
   "cell_type": "code",
   "execution_count": null,
   "metadata": {},
   "outputs": [],
   "source": [
    "#create admissions table and populate\n",
    "admissions = pd.read_csv('ADMISSIONS.csv', index_col=0, encoding='latin-1')\n",
    "\n",
    "c.execute('CREATE TABLE ADMISSIONS (SUBJECT_ID int, HADM_ID int, ADMITTIME str, DISCHTIME str,DEATHTIME str,ADMISSION_TYPE str, ADMISSION_LOCATION str, DISCHARGE_LOCATION str,INSURANCE str, LANGUAGE str, RELIGION str, MARITAL_STATUS str, ETHNICITY str,EDREGTIME str,EDOUTTIME str,DIAGNOSIS str,HOSPITAL_EXPIRE_FLAG str,HAS_CHARTEVENTS_DATA str)')\n",
    "conn.commit()\n",
    "\n",
    "admissions.to_sql('ADMISSIONS',conn, if_exists='replace',index=False)"
   ]
  },
  {
   "cell_type": "code",
   "execution_count": null,
   "metadata": {},
   "outputs": [],
   "source": [
    "#create DRGcodes table\n",
    "DRGcodes = pd.read_csv('DRGCODES.csv.gz',index_col=0,encoding='latin-1')\n",
    "\n",
    "c.execute('CREATE TABLE DRGCODES (SUBJECT_ID int, HADM_ID int, DRG_TYPE str, DRG_CODE str, DESCRIPTION str,DRG_SEVERITY str, DRG_MORTALITY str)')\n",
    "conn.commit()\n",
    "\n",
    "DRGcodes.to_sql('DRGCODES',conn, if_exists='replace',index=False)"
   ]
  },
  {
   "cell_type": "code",
   "execution_count": null,
   "metadata": {},
   "outputs": [],
   "source": [
    "#create Notes table\n",
    "notes = pd.read_csv(r'NOTEEVENTS.csv',index_col=0)\n",
    "\n",
    "c.execute('CREATE TABLE NOTES (SUBJECT_ID int, HADM_ID int, CHARTDATE str, CHARTTIME str, STORETIME str,CATEGORY str, DESCRIPTION str, CGID str, ISERROR str, TEXT str)')\n",
    "conn.commit()\n",
    "\n",
    "notes.to_sql('NOTES',conn, if_exists='replace',index=False)"
   ]
  },
  {
   "cell_type": "code",
   "execution_count": null,
   "metadata": {},
   "outputs": [],
   "source": [
    "#create patients table\n",
    "patients = pd.read_csv('PATIENTS.csv.gz',index_col=0,encoding='latin-1')\n",
    "\n",
    "c.execute('CREATE TABLE PATIENTS (SUBJECT_ID int, GENDER str, DOB str, DOD str, DOD_HOSP str, DOD_SSN str,EXPIRE_FLAG str)')\n",
    "conn.commit()\n",
    "\n",
    "patients.to_sql('PATIENTS',conn, if_exists='replace',index=False)"
   ]
  },
  {
   "cell_type": "code",
   "execution_count": null,
   "metadata": {},
   "outputs": [],
   "source": [
    "#create dx_icd table\n",
    "dx_icd = pd.read_csv('diagnoses_icd.csv.gz', index_col=0,encoding='latin-1')\n",
    "\n",
    "c.execute('CREATE TABLE DX_ICD (SUBJECT_ID int, HADM_ID int, SEQ_NUM int, ICD_CODE str, ICD_VERSION int)')\n",
    "conn.commit()\n",
    "\n",
    "dx_icd.to_sql('DX_ICD',conn, if_exists='replace',index = False)"
   ]
  },
  {
   "cell_type": "code",
   "execution_count": null,
   "metadata": {},
   "outputs": [],
   "source": [
    "# this will give you the names of the tables that were created and are currently in the db.\n",
    "\n",
    "res = conn.execute(\"SELECT name FROM sqlite_master WHERE type='table';\")\n",
    "for name in res:\n",
    "    print (name[0])"
   ]
  }
 ],
 "metadata": {
  "kernelspec": {
   "display_name": "amanda",
   "language": "python",
   "name": "amanda"
  },
  "language_info": {
   "codemirror_mode": {
    "name": "ipython",
    "version": 3
   },
   "file_extension": ".py",
   "mimetype": "text/x-python",
   "name": "python",
   "nbconvert_exporter": "python",
   "pygments_lexer": "ipython3",
   "version": "3.8.2"
  }
 },
 "nbformat": 4,
 "nbformat_minor": 4
}
